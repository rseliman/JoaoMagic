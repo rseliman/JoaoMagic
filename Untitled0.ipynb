{
  "nbformat": 4,
  "nbformat_minor": 0,
  "metadata": {
    "colab": {
      "provenance": [],
      "gpuType": "T4",
      "include_colab_link": true
    },
    "kernelspec": {
      "name": "python3",
      "display_name": "Python 3"
    },
    "language_info": {
      "name": "python"
    },
    "accelerator": "GPU"
  },
  "cells": [
    {
      "cell_type": "markdown",
      "metadata": {
        "id": "view-in-github",
        "colab_type": "text"
      },
      "source": [
        "<a href=\"https://colab.research.google.com/github/rseliman/JoaoMagic/blob/main/Untitled0.ipynb\" target=\"_parent\"><img src=\"https://colab.research.google.com/assets/colab-badge.svg\" alt=\"Open In Colab\"/></a>"
      ]
    },
    {
      "cell_type": "code",
      "source": [
        "#mount drive\n",
        "%cd ..\n",
        "from google.colab import drive\n",
        "drive.mount('/content/gdrive')\n",
        "\n",
        "# this creates a symbolic link so that now the path /content/gdrive/My\\ Drive/ is equal to /mydrive\n",
        "!ln -s /content/gdrive/My\\ Drive/ /mydrive\n",
        "\n",
        "# list contents in yolov4-tiny folder in your drive\n",
        "!ls /mydrive/JoaoMagic"
      ],
      "metadata": {
        "colab": {
          "base_uri": "https://localhost:8080/"
        },
        "id": "Jg5RtbnNn2DP",
        "outputId": "a906ccf7-ca61-4583-89ee-9690396e0676"
      },
      "execution_count": 1,
      "outputs": [
        {
          "output_type": "stream",
          "name": "stdout",
          "text": [
            "/\n",
            "Mounted at /content/gdrive\n",
            "carta.jpg  PlayingCardsv2.zip\ttest\t  yolov4-tiny-custom.cfg\n",
            "foto.jpg   process.py\t\ttrain\n",
            "obj.data   README.dataset.txt\ttraining\n",
            "obj.names  README.roboflow.txt\tvalid\n"
          ]
        }
      ]
    },
    {
      "cell_type": "code",
      "execution_count": null,
      "metadata": {
        "id": "_65uxLh5nsQD"
      },
      "outputs": [],
      "source": [
        "%cd /content/\n",
        "!git clone https://github.com/AlexeyAB/darknet"
      ]
    },
    {
      "cell_type": "code",
      "source": [
        "# change makefile to have GPU and OPENCV enabled\n",
        "# also set CUDNN, CUDNN_HALF and LIBSO to 1\n",
        "\n",
        "%cd /content/darknet/\n",
        "!sed -i 's/OPENCV=0/OPENCV=1/' Makefile\n",
        "!sed -i 's/GPU=0/GPU=1/' Makefile\n",
        "!sed -i 's/CUDNN=0/CUDNN=1/' Makefile\n",
        "!sed -i 's/CUDNN_HALF=0/CUDNN_HALF=1/' Makefile\n",
        "!sed -i 's/LIBSO=0/LIBSO=1/' Makefile"
      ],
      "metadata": {
        "id": "RYrUTKcxn6tO"
      },
      "execution_count": null,
      "outputs": []
    },
    {
      "cell_type": "code",
      "source": [
        "# build darknet\n",
        "!make"
      ],
      "metadata": {
        "id": "kXLBNmzMoBex"
      },
      "execution_count": null,
      "outputs": []
    },
    {
      "cell_type": "code",
      "source": [
        "# Clean the data and cfg folders first except the labels folder in data which is required\n",
        "\n",
        "%cd data/\n",
        "!find -maxdepth 1 -type f -exec rm -rf {} \\;\n",
        "%cd ..\n",
        "\n",
        "%rm -rf cfg/\n",
        "%mkdir cfg"
      ],
      "metadata": {
        "id": "9WN6ZKEmoCcR"
      },
      "execution_count": null,
      "outputs": []
    },
    {
      "cell_type": "code",
      "source": [
        "#copy the datasets zip file to the root darknet folder\n",
        "!cp -r /content/gdrive/MyDrive/JoaoMagic /content/darknet/data/\n",
        "\n"
      ],
      "metadata": {
        "id": "vfvqDtS0oCec"
      },
      "execution_count": null,
      "outputs": []
    },
    {
      "cell_type": "code",
      "source": [
        "#copy the custom cfg file from the drive to the darknet/cfg folder\n",
        "!cp /content/gdrive/MyDrive/JoaoMagic/yolov4-tiny-custom.cfg ./cfg"
      ],
      "metadata": {
        "id": "3vKgK2Z7oVmB"
      },
      "execution_count": null,
      "outputs": []
    },
    {
      "cell_type": "code",
      "source": [
        "# copy the obj.names and obj.data files so that they are now in /darknet/data/ folder\n",
        "!cp /content/gdrive/MyDrive/JoaoMagic/obj.names ./data\n",
        "!cp /content/gdrive/MyDrive/JoaoMagic/obj.data  ./data"
      ],
      "metadata": {
        "id": "pfSsFzvAqD3C"
      },
      "execution_count": null,
      "outputs": []
    },
    {
      "cell_type": "code",
      "source": [
        "#copy the process.py file from the drive to the darknet directory\n",
        "!cp /mydrive/JoaoMagic/process.py ./"
      ],
      "metadata": {
        "id": "KpHF7gQ3qG9m"
      },
      "execution_count": null,
      "outputs": []
    },
    {
      "cell_type": "code",
      "source": [
        "%ls"
      ],
      "metadata": {
        "id": "34lbG_co1QDN"
      },
      "execution_count": null,
      "outputs": []
    },
    {
      "cell_type": "code",
      "source": [
        "# unzip the datasets and their contents so that they are now in /darknet/data/ folder\n",
        "!unzip /content/gdrive/MyDrive/JoaoMagic/PlayingCardsv2.zip -d /content/gdrive/MyDrive/JoaoMagic/"
      ],
      "metadata": {
        "id": "UNainDo6zxoy"
      },
      "execution_count": null,
      "outputs": []
    },
    {
      "cell_type": "code",
      "source": [
        "# run process.py ( this creates the train.txt and test.txt files in our darknet/data folder )\n",
        "!python process.py\n",
        "\n",
        "# list the contents of data folder to check if the train.txt and test.txt files have been created\n",
        "!ls data/"
      ],
      "metadata": {
        "id": "ldec-xhaqhla"
      },
      "execution_count": null,
      "outputs": []
    },
    {
      "cell_type": "code",
      "source": [
        "import os\n",
        "\n",
        "# Directorio que contiene las imágenes de entrenamiento y prueba\n",
        "base_dir = '/content/darknet/Playing-Cards-2/'\n",
        "\n",
        "# Directorios específicos para entrenamiento y prueba\n",
        "train_dir = os.path.join(base_dir, 'train')\n",
        "test_dir = os.path.join(base_dir, 'test')\n",
        "\n",
        "# Obtener las rutas de las imágenes de entrenamiento y prueba\n",
        "train_image_paths = [os.path.join(train_dir, img) for img in os.listdir(train_dir) if img.endswith('.jpg')]\n",
        "test_image_paths = [os.path.join(test_dir, img) for img in os.listdir(test_dir) if img.endswith('.jpg')]\n",
        "\n",
        "# Crear y guardar el archivo train.txt\n",
        "with open('/content/darknet/data/train.txt', 'w') as f:\n",
        "    for path in train_image_paths:\n",
        "        f.write(path + '\\n')\n",
        "\n",
        "# Crear y guardar el archivo test.txt\n",
        "with open('/content/darknet/data/test.txt', 'w') as f:\n",
        "    for path in test_image_paths:\n",
        "        f.write(path + '\\n')"
      ],
      "metadata": {
        "id": "RgIxqkaxpF48"
      },
      "execution_count": null,
      "outputs": []
    },
    {
      "cell_type": "code",
      "source": [
        "\n",
        "# Download the yolov4-tiny pre-trained weights file\n",
        "!wget https://github.com/AlexeyAB/darknet/releases/download/darknet_yolo_v4_pre/yolov4-tiny.conv.29"
      ],
      "metadata": {
        "id": "J2OTkvWsqlZ1"
      },
      "execution_count": null,
      "outputs": []
    },
    {
      "cell_type": "code",
      "source": [
        "# train your custom detector! (uncomment %%capture below if you run into memory issues or your Colab is crashing)\n",
        "# %%capture\n",
        "\n",
        "!./darknet detector train data/obj.data cfg/yolov4-tiny-custom.cfg yolov4-tiny.conv.29 -dont_show -weights /gdrive/MyDrive/JoaoMagic/training/yolov4-tiny-custom_last.weights\n"
      ],
      "metadata": {
        "id": "pbXhKTGhqoyY"
      },
      "execution_count": null,
      "outputs": []
    },
    {
      "cell_type": "code",
      "source": [
        "# This stops 'Run all' at this cell by causing an error\n",
        "assert False"
      ],
      "metadata": {
        "id": "_oUXyOajqs8M"
      },
      "execution_count": null,
      "outputs": []
    },
    {
      "cell_type": "code",
      "source": [
        "#to restart training your custom detector where you left off(using the weights that were saved last)\n",
        "\n",
        "!./darknet detector train data/obj.data cfg/yolov4-tiny-custom.cfg /content/gdrive/MyDrive/JoaoMagic/training/yolov4-tiny-custom_10000.weights -dont_show -map"
      ],
      "metadata": {
        "id": "8d4426-IqzUZ"
      },
      "execution_count": null,
      "outputs": []
    },
    {
      "cell_type": "code",
      "source": [
        "# define helper function imShow\n",
        "def imShow(path):\n",
        "  import cv2\n",
        "  import matplotlib.pyplot as plt\n",
        "  %matplotlib inline\n",
        "\n",
        "  image = cv2.imread(path)\n",
        "  height, width = image.shape[:2]\n",
        "  resized_image = cv2.resize(image,(3*width, 3*height), interpolation = cv2.INTER_CUBIC)\n",
        "\n",
        "  fig = plt.gcf()\n",
        "  fig.set_size_inches(18, 10)\n",
        "  plt.axis(\"off\")\n",
        "  plt.imshow(cv2.cvtColor(resized_image, cv2.COLOR_BGR2RGB))\n",
        "  #plt.show('')\n"
      ],
      "metadata": {
        "id": "F2I5bwVWq3iL"
      },
      "execution_count": null,
      "outputs": []
    },
    {
      "cell_type": "code",
      "source": [
        "#only works if the training does not get interrupted\n",
        "imShow('chart.png')"
      ],
      "metadata": {
        "id": "R-JKmABGq7bk"
      },
      "execution_count": null,
      "outputs": []
    },
    {
      "cell_type": "code",
      "source": [
        "#You can check the mAP for all the saved weights to see which gives the best results ( xxxx here is the saved weight number like 4000, 5000 or 6000 snd so on )\n",
        "\n",
        "!./darknet detector map data/obj.data cfg/yolov4-tiny-custom.cfg /mydrive/JoaoMagic/training/yolov4-tiny-custom_20000.weights -points 0"
      ],
      "metadata": {
        "id": "9U2ptXMdrAAN",
        "outputId": "2caa05c1-9ef6-47e2-8fb5-ce5d075b8e33",
        "colab": {
          "base_uri": "https://localhost:8080/"
        }
      },
      "execution_count": null,
      "outputs": [
        {
          "output_type": "stream",
          "name": "stdout",
          "text": [
            "./darknet: error while loading shared libraries: libcuda.so.1: cannot open shared object file: No such file or directory\n"
          ]
        }
      ]
    }
  ]
}
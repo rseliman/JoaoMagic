{
  "nbformat": 4,
  "nbformat_minor": 0,
  "metadata": {
    "colab": {
      "provenance": [],
      "authorship_tag": "ABX9TyNXNud1zj6WiyYao/PJx+t8",
      "include_colab_link": true
    },
    "kernelspec": {
      "name": "python3",
      "display_name": "Python 3"
    },
    "language_info": {
      "name": "python"
    }
  },
  "cells": [
    {
      "cell_type": "markdown",
      "metadata": {
        "id": "view-in-github",
        "colab_type": "text"
      },
      "source": [
        "<a href=\"https://colab.research.google.com/github/rseliman/JoaoMagic/blob/main/Jueves27Julio_Cards.ipynb\" target=\"_parent\"><img src=\"https://colab.research.google.com/assets/colab-badge.svg\" alt=\"Open In Colab\"/></a>"
      ]
    },
    {
      "cell_type": "code",
      "execution_count": null,
      "metadata": {
        "id": "1OEWheWr5Tyb"
      },
      "outputs": [],
      "source": [
        "from google.colab import drive\n",
        "drive.mount('/content/drive')"
      ]
    },
    {
      "cell_type": "code",
      "source": [
        "!git clone https://github.com/AlexeyAB/darknet.git\n",
        "%cd /content/darknet\n",
        "!sed -i 's/GPU=0/GPU=1/' Makefile\n",
        "!make\n"
      ],
      "metadata": {
        "id": "CjmZWOe-5nF3"
      },
      "execution_count": null,
      "outputs": []
    },
    {
      "cell_type": "code",
      "source": [
        "!wget https://github.com/AlexeyAB/darknet/releases/download/darknet_yolo_v4_pre/yolov4-tiny.weights\n"
      ],
      "metadata": {
        "id": "_u4MLOUS5qD-"
      },
      "execution_count": null,
      "outputs": []
    },
    {
      "cell_type": "code",
      "source": [
        "%cd content/darknet/cfg/\n",
        "!wget https://github.com/AlexeyAB/darknet/releases/download/darknet_yolo_v4_pre/yolov4-tiny.cfg"
      ],
      "metadata": {
        "id": "gsXzNBpX6S9B"
      },
      "execution_count": null,
      "outputs": []
    },
    {
      "cell_type": "code",
      "source": [
        "import os\n",
        "%cd /content/darknet/data/\n",
        "# Crear el directorio \"data\" si no existe\n",
        "data_dir = \"data\"\n",
        "if not os.path.exists(data_dir):\n",
        "    os.makedirs(data_dir)\n",
        "\n",
        "# Rutas a las imágenes de entrenamiento y validación\n",
        "train_path = \"/Proyecto-Yolo-Cards/images/train/\"\n",
        "valid_path = \"/content/Playing-Cards-2/valid/\"\n",
        "\n",
        "# Obtener las rutas de las imágenes de entrenamiento\n",
        "train_images = [os.path.join(train_path, img) for img in os.listdir(train_path) if img.endswith(\".jpg\")]\n",
        "with open(os.path.join(data_dir, \"train.txt\"), \"w\") as f:\n",
        "    f.write(\"\\n\".join(train_images))\n",
        "\n",
        "# Obtener las rutas de las imágenes de validación\n",
        "valid_images = [os.path.join(valid_path, img) for img in os.listdir(valid_path) if img.endswith(\".jpg\")]\n",
        "with open(os.path.join(data_dir, \"valid.txt\"), \"w\") as f:\n",
        "    f.write(\"\\n\".join(valid_images))\n"
      ],
      "metadata": {
        "id": "aU6Bd9WG8dh7"
      },
      "execution_count": null,
      "outputs": []
    }
  ]
}